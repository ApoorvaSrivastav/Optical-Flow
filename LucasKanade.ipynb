{
 "cells": [
  {
   "cell_type": "code",
   "execution_count": 2,
   "metadata": {},
   "outputs": [],
   "source": [
    "def OpticalFlow(im,grad_x,grad_y,grad_t,win_size,thresh):\n",
    "    import numpy as np\n",
    "    h,w=im.shape\n",
    "    u=np.zeros((h,w))\n",
    "    v=np.zeros((h,w))\n",
    "    gap=win_size[0]//2\n",
    "    \n",
    "    #Calculating sum(grad_x^2),sum(grad_y^2),sum(grad_x*grad_y),sum(grad_x*grad_t),sum(grad_t*grad_y)\n",
    "    #at every pixel for a window of 3x3\n",
    "    for i in range(0,h,gap+1):\n",
    "        for j in range(0,w,gap+1):\n",
    "            if i-gap<0 or j-gap<0 or i+gap==h or j+gap==w:\n",
    "                pass\n",
    "            else:\n",
    "                grad_x_sq=np.sum(grad_x[i-gap:i+gap+1,j-gap:j+gap+1]**2)\n",
    "                grad_y_sq=np.sum(grad_y[i-gap:i+gap+1,j-gap:j+gap+1]**2)\n",
    "                grad_xy=np.sum(np.multiply(grad_x[i-gap:i+gap+1,j-gap:j+gap+1],grad_y[i-gap:i+gap+1,j-gap:j+gap+1]))\n",
    "                grad_xt=np.sum(np.multiply(grad_x[i-gap:i+gap+1,j-gap:j+gap+1],grad_t[i-gap:i+gap+1,j-gap:j+gap+1]))\n",
    "                grad_yt=np.sum(np.multiply(grad_y[i-gap:i+gap+1,j-gap:j+gap+1],grad_t[i-gap:i+gap+1,j-gap:j+gap+1]))            \n",
    "                #print(grad_x_sq,grad_y_sq,grad_xy,grad_xt,grad_yt)\n",
    "                \n",
    "                #Forming the matrix\n",
    "                A = np.array([ [ grad_x_sq,grad_xy], [grad_xy, grad_y_sq] ])\n",
    "                b = np.array([-grad_xt, -grad_yt])\n",
    "                #print(A)\n",
    "                # if threshold τ is larger than the smallest eigenvalue of A'A:\n",
    "                U,D,V_T = np.linalg.svd(A.T.dot(A))\n",
    "                #print(np.min(D))\n",
    "                if np.min(D)<thresh:\n",
    "                    u[i-gap:i+gap+1,j-gap:j+gap+1]=0\n",
    "                    v[i-gap:i+gap+1,j-gap:j+gap+1]=0                \n",
    "\n",
    "                else:\n",
    "                    o_flow = np.linalg.inv(A.T.dot(A)).dot(A.T).dot(b)\n",
    "                    #o_flow = np.linalg.inv(A).dot(b)\n",
    "                    u[i-gap:i+gap,j-gap:j+gap]=o_flow[0]\n",
    "                    v[i-gap:i+gap,j-gap:j+gap]=o_flow[1]\n",
    "    return(u,v)\n",
    "def Calc_Flow(folder,img1,img2,window=(3,3),threshold=0.01):\n",
    "    import numpy as np\n",
    "    import cv2\n",
    "    import scipy\n",
    "    from scipy import signal\n",
    "    from scipy.signal import convolve2d\n",
    " \n",
    "    #Computing Ix,Iy,It at every point on the img I1\n",
    "    Kernel_gradx=np.array([[-1,1],[-1,1]])\n",
    "    Kernel_grady=np.array([[1,1],[-1,-1]])\n",
    "    Kernel_gradt=np.array([[1,1],[1,1]])*.25\n",
    "    #grad_x=convolution2d(im1,Kernel_gradx)\n",
    "    grad_x=convolve2d(img1, Kernel_gradx, boundary='symm', mode='same')\n",
    "    grad_y=convolve2d(img1, Kernel_grady, boundary='symm', mode='same')\n",
    "    grad_t=convolve2d(img1, -Kernel_gradt, boundary='symm', mode='same') +\n",
    "           convolve2d(img2, Kernel_gradt, boundary='symm', mode='same')\n",
    "    u,v=OpticalFlow(img1,grad_x,grad_y,grad_t,window,threshold)\n",
    "    return u,v"
   ]
  },
  {
   "cell_type": "code",
   "execution_count": 3,
   "metadata": {},
   "outputs": [],
   "source": [
    "def FlowMaps(folder,img1,u,v,granularity):\n",
    "    import cv2\n",
    "    import numpy as np\n",
    "    h,w=img1.shape\n",
    "    flow_map=np.zeros((h,w))\n",
    "    im=img1\n",
    "    #Visualization\n",
    "    for y in range(h):\n",
    "            for x in range(w):\n",
    "                if y % granularity == 0 and x % granularity == 0:\n",
    "                    dx = int(u[y, x] )\n",
    "                    dy = int(v[y, x])\n",
    "                    cv2.arrowedLine(im, (x, y), (x + dx, y + dy), (255,255,255))\n",
    "                    cv2.arrowedLine(flow_map, (x, y), (x + dx, y + dy), (255,255,255))\n",
    "    cv2.imwrite('./'+folder+'/FlowOnImg'+str(granularity)+'.png',im)\n",
    "    cv2.imwrite('./'+folder+'/FlowMap'+str(granularity)+'.png',flow_map)\n",
    "    return im, flow_map"
   ]
  },
  {
   "cell_type": "code",
   "execution_count": 8,
   "metadata": {},
   "outputs": [],
   "source": [
    "if __name__ == \"__main__\":\n",
    "    import numpy as np\n",
    "    import cv2\n",
    "    import scipy\n",
    "    from scipy import signal\n",
    "    from scipy.signal import convolve2d \n",
    "    \n",
    "    folder=['Army','Backyard','Basketball','Dumptruck','Evergreen','Grove','Mequon','Schefflera','Teddy','Urban','Wooden','Yosemite']\n",
    "    granularity=6\n",
    "    for i in folder:\n",
    "        img1=cv2.imread('./'+i+'/frame10.png')\n",
    "        img2=cv2.imread('./'+i+'/frame11.png')\n",
    "        #converting to gray_scale\n",
    "        img1=cv2.cvtColor(img1,cv2.COLOR_BGR2GRAY)\n",
    "        img2=cv2.cvtColor(img2,cv2.COLOR_BGR2GRAY)\n",
    "        u,v=Calc_Flow(i,img1,img2)\n",
    "        im,f_im=FlowMaps(i,img1,u,v,granularity)"
   ]
  },
  {
   "cell_type": "code",
   "execution_count": null,
   "metadata": {},
   "outputs": [],
   "source": []
  },
  {
   "cell_type": "code",
   "execution_count": null,
   "metadata": {},
   "outputs": [],
   "source": []
  },
  {
   "cell_type": "code",
   "execution_count": null,
   "metadata": {},
   "outputs": [],
   "source": []
  },
  {
   "cell_type": "code",
   "execution_count": null,
   "metadata": {},
   "outputs": [],
   "source": [
    "\n"
   ]
  },
  {
   "cell_type": "code",
   "execution_count": null,
   "metadata": {},
   "outputs": [],
   "source": []
  },
  {
   "cell_type": "code",
   "execution_count": null,
   "metadata": {},
   "outputs": [],
   "source": []
  },
  {
   "cell_type": "code",
   "execution_count": null,
   "metadata": {},
   "outputs": [],
   "source": []
  },
  {
   "cell_type": "code",
   "execution_count": null,
   "metadata": {},
   "outputs": [],
   "source": []
  },
  {
   "cell_type": "code",
   "execution_count": null,
   "metadata": {},
   "outputs": [],
   "source": []
  }
 ],
 "metadata": {
  "kernelspec": {
   "display_name": "Python 3",
   "language": "python",
   "name": "python3"
  },
  "language_info": {
   "codemirror_mode": {
    "name": "ipython",
    "version": 3
   },
   "file_extension": ".py",
   "mimetype": "text/x-python",
   "name": "python",
   "nbconvert_exporter": "python",
   "pygments_lexer": "ipython3",
   "version": "3.7.7"
  }
 },
 "nbformat": 4,
 "nbformat_minor": 4
}
