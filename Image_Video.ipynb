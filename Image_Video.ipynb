{
 "cells": [
  {
   "cell_type": "code",
   "execution_count": null,
   "metadata": {},
   "outputs": [],
   "source": [
    "def Image2Video(Output, fps,size,image_array):         #function to create video from image\n",
    "    import cv2\n",
    "    import os\n",
    "    from time import sleep\n",
    "    video = cv2.VideoWriter(Output,cv2.VideoWriter_fourcc(*'MP4V'), fps, size)\n",
    "    for i in range(len(image_array)):\n",
    "        # writing to a image array\n",
    "        video.write(image_array[i])\n",
    "    video.release()\n",
    "    \n",
    "if __name__==\"__main__\":\n",
    "    import cv2\n",
    "    import os\n",
    "    from time import sleep\n",
    "    image_array=[]\n",
    "    Input= './/folder//img'\n",
    "    Output = './/folder//video.mp4'\n",
    "    fps = 25\n",
    "    \n",
    "    for i in range(0,1000,1):    #Creating array of images to be converted into video\n",
    "        filename= Input +str(i)+'.jpg'\n",
    "        img=cv2.imread(filename)\n",
    "        #print(\"loading\"+filename)\n",
    "        image_array.append(img)\n",
    "    height,width,layers=img.shape\n",
    "    size=(width,height)   \n",
    "    Image2Video(Output, fps,size,image_array)\n"
   ]
  }
 ],
 "metadata": {
  "kernelspec": {
   "display_name": "Python 3",
   "language": "python",
   "name": "python3"
  },
  "language_info": {
   "codemirror_mode": {
    "name": "ipython",
    "version": 3
   },
   "file_extension": ".py",
   "mimetype": "text/x-python",
   "name": "python",
   "nbconvert_exporter": "python",
   "pygments_lexer": "ipython3",
   "version": "3.7.7"
  }
 },
 "nbformat": 4,
 "nbformat_minor": 4
}
