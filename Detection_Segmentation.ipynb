{
 "cells": [
  {
   "cell_type": "code",
   "execution_count": 1,
   "metadata": {},
   "outputs": [],
   "source": [
    "def FlowMaps(folder,img1,img2):\n",
    "    import cv2\n",
    "    import numpy as np\n",
    "    import LucasKanade\n",
    "    from LucasKanade import Calc_Flow\n",
    "    \n",
    "    #converting to gray_scale\n",
    "    img1=cv2.cvtColor(img1,cv2.COLOR_BGR2GRAY)\n",
    "    img2=cv2.cvtColor(img2,cv2.COLOR_BGR2GRAY)\n",
    "    h,w=img1.shape\n",
    "    flow_map=np.zeros((h,w))\n",
    "    u,v=Calc_Flow(folder,img1,img2)\n",
    "    num_corners=2000\n",
    "    corners = cv2.goodFeaturesToTrack(img1,num_corners,0.01,1)\n",
    "    x=[]\n",
    "    y=[]\n",
    "    num_corners=len(corners)\n",
    "    for i in range(num_corners):\n",
    "        x.append(int(corners[i][0][0]))\n",
    "        y.append(int(corners[i][0][1]))\n",
    "    im=img1\n",
    "    for i,j in zip(x,y):\n",
    "        dx = int(u[j, i] )\n",
    "        dy = int(v[j, i])\n",
    "        cv2.arrowedLine(im, (i, j), (i + dx, j + dy), (255,255,255))\n",
    "        cv2.arrowedLine(flow_map, (i, j), (i + dx, j + dy), (255,255,255))\n",
    "    return im, flow_map\n",
    "    "
   ]
  },
  {
   "cell_type": "code",
   "execution_count": 2,
   "metadata": {},
   "outputs": [],
   "source": [
    "def Mask(folder,im):\n",
    "    import numpy as np\n",
    "    import cv2\n",
    "    im=np.asarray(im)\n",
    "    #im=im[:,:,0]\n",
    "    h,w=im.shape\n",
    "    #print(im.shape,h,w)\n",
    "    for i in range(0,h,6):\n",
    "        for j in range(0,w,6):\n",
    "            if i-1==0 or i-3==0 or j-3==0 or i+1==h or j+3==w or i+3==h or j-1==0 or j+1==w or i+2==h or i-2==0 or j-2==0 or j+2==w:\n",
    "                pass\n",
    "            else:\n",
    "                window=im[i-3:i+3,j-3:j+3]\n",
    "                if np.count_nonzero(window)>0:\n",
    "                    im[i-3:i+3,j-3:j+3]=255 \n",
    "    return im\n",
    "    "
   ]
  },
  {
   "cell_type": "code",
   "execution_count": 3,
   "metadata": {},
   "outputs": [],
   "source": [
    "def Segment(folder,img,mask):\n",
    "    import numpy as np\n",
    "    img=np.asarray(img)\n",
    "    mask=np.asarray(mask)\n",
    "    h,w,_=img.shape\n",
    "    new_im=np.zeros((h,w))\n",
    "    for i in range(h):\n",
    "        for j in range(w):\n",
    "            if mask[i,j]==0:\n",
    "                new_im[i,j]=0\n",
    "            else:\n",
    "                new_im[i,j]=img[i,j,0]\n",
    "    return(new_im)\n"
   ]
  },
  {
   "cell_type": "code",
   "execution_count": 6,
   "metadata": {},
   "outputs": [],
   "source": [
    "def Box(folder,img1,img):\n",
    "    import cv2 as cv2\n",
    "    import numpy as np\n",
    " \n",
    "    img = cv2.cvtColor(img, cv2.COLOR_BGR2GRAY)\n",
    "    image, contours, hierarchy = cv2.findContours(img,cv2.RETR_TREE,cv2.CHAIN_APPROX_SIMPLE)\n",
    "    for item in range(len(contours)):\n",
    "        cnt = contours[item]\n",
    "        if len(cnt)>1000:\n",
    "            x,y,w,h = cv2.boundingRect(cnt)\n",
    "            cv2.rectangle(img1,(x,y),(x+w,y+h),(255,255,0),1)\n",
    "    return(img1)   \n"
   ]
  },
  {
   "cell_type": "code",
   "execution_count": 7,
   "metadata": {},
   "outputs": [],
   "source": [
    "if __name__ == \"__main__\":\n",
    "    import numpy as np\n",
    "    import cv2\n",
    "    import LucasKanade\n",
    "    from LucasKanade import Calc_Flow\n",
    "    import os\n",
    "    \n",
    "    image1_name='img10'\n",
    "    image2_name='img11'\n",
    "    if not os.path.exists(image1_name): \n",
    "        os.makedirs(image1_name) \n",
    "    folder='Antique'\n",
    "    granularity=2\n",
    "    img1=cv2.imread('./'+folder+'/'+image1_name+'.jpg')\n",
    "    img2=cv2.imread('./'+folder+'/'+image1_name+'.jpg')\n",
    "    im,flow_map=FlowMaps(folder,img1,img2)\n",
    "    cv2.imwrite('./'+image1_name+'/flow_on_im.jpg',im)\n",
    "    cv2.imwrite('./'+image1_name+'/flow_map.jpg',flow_map)\n",
    "    mask=Mask(folder,flow_map)\n",
    "    cv2.imwrite('./'+image1_name+'/mask.jpg',mask)\n",
    "    seg=Segment(folder,img1,mask)\n",
    "    cv2.imwrite('./'+image1_name+'/seg.jpg',seg)\n",
    "    seg_im=cv2.imread('./'+image1_name+'/seg.jpg')\n",
    "    boxed_im=Box(folder,img1,seg_im)\n",
    "    cv2.imwrite('./'+image1_name+'/box.jpg',boxed_im)"
   ]
  },
  {
   "cell_type": "code",
   "execution_count": null,
   "metadata": {},
   "outputs": [],
   "source": []
  },
  {
   "cell_type": "code",
   "execution_count": null,
   "metadata": {},
   "outputs": [],
   "source": []
  },
  {
   "cell_type": "code",
   "execution_count": null,
   "metadata": {},
   "outputs": [],
   "source": []
  },
  {
   "cell_type": "code",
   "execution_count": null,
   "metadata": {},
   "outputs": [],
   "source": []
  }
 ],
 "metadata": {
  "kernelspec": {
   "display_name": "Python 3",
   "language": "python",
   "name": "python3"
  },
  "language_info": {
   "codemirror_mode": {
    "name": "ipython",
    "version": 3
   },
   "file_extension": ".py",
   "mimetype": "text/x-python",
   "name": "python",
   "nbconvert_exporter": "python",
   "pygments_lexer": "ipython3",
   "version": "3.7.7"
  }
 },
 "nbformat": 4,
 "nbformat_minor": 4
}
