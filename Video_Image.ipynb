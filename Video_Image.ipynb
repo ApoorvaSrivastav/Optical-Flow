{
 "cells": [
  {
   "cell_type": "code",
   "execution_count": 5,
   "metadata": {},
   "outputs": [],
   "source": [
    "def Video2Image(video):\n",
    "    import cv2\n",
    "    import os\n",
    "    i=0                 \n",
    "    try: \n",
    "        # creating a folder named frame_captured \n",
    "        if not os.path.exists('folder'): \n",
    "            os.makedirs('folder') \n",
    "\n",
    "\n",
    "    except OSError:                                        # if folder not created \n",
    "        print ('Error: Creating directory of data')\n",
    "    #video=cv2.VideoCapture(\"C:\\\\Users\\\\Asus\\\\Videos\\\\Antique.mp4\");# Creating the object Video for capturing video\n",
    "    # from the first webcam,the same function is used for capturing video already stored as a file by specifying path\n",
    "    #print('Done')\n",
    "    if video.isOpened():      # to check if the webcam is found connected to the computer\n",
    "            ret,frame=video.read() #command to capture video\n",
    "\n",
    "    else:\n",
    "            print(\"Error Loading Video\")\n",
    "            ret=False\n",
    "\n",
    "    while(ret==True):\n",
    "        ret,frame=video.read()\n",
    "        #print(ret)\n",
    "        if ret==False:\n",
    "                break\n",
    "        img = cv2.cvtColor(frame,cv2.COLOR_BGR2RGB)# The function is for changing colorspace of an image.\n",
    "                                                   # frame is the input image and cv2.COLOR_BGR2RGB is flag telling\n",
    "                                                   # type of conversion\n",
    "        i+=1\n",
    "        cv2.imwrite('./folder/img'+str(i)+'.jpg',frame)\n",
    "        if ret==False:\n",
    "                break\n",
    "        #if i==1000:     #if 1000 frames retrieved\n",
    "            #ret=False\n",
    "    video.release()\n",
    "    return('folder','img',i)\n"
   ]
  },
  {
   "cell_type": "code",
   "execution_count": null,
   "metadata": {},
   "outputs": [],
   "source": [
    "if __name__ == \"__main__\":\n",
    "    import cv2\n",
    "    video=cv2.VideoCapture(r'C:\\Users\\Asus\\Videos\\Antique.mp4')\n",
    "    a,b,c=Video2Image(video)\n",
    "\n"
   ]
  },
  {
   "cell_type": "code",
   "execution_count": null,
   "metadata": {},
   "outputs": [],
   "source": []
  },
  {
   "cell_type": "code",
   "execution_count": null,
   "metadata": {},
   "outputs": [],
   "source": [
    "\n"
   ]
  },
  {
   "cell_type": "code",
   "execution_count": null,
   "metadata": {},
   "outputs": [],
   "source": [
    "\n"
   ]
  }
 ],
 "metadata": {
  "kernelspec": {
   "display_name": "Python 3",
   "language": "python",
   "name": "python3"
  },
  "language_info": {
   "codemirror_mode": {
    "name": "ipython",
    "version": 3
   },
   "file_extension": ".py",
   "mimetype": "text/x-python",
   "name": "python",
   "nbconvert_exporter": "python",
   "pygments_lexer": "ipython3",
   "version": "3.7.7"
  }
 },
 "nbformat": 4,
 "nbformat_minor": 4
}
