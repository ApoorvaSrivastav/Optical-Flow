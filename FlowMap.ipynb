{
 "cells": [
  {
   "cell_type": "code",
   "execution_count": 1,
   "metadata": {},
   "outputs": [
    {
     "data": {
      "text/plain": [
       "True"
      ]
     },
     "execution_count": 1,
     "metadata": {},
     "output_type": "execute_result"
    }
   ],
   "source": [
    "import LucasKanade\n",
    "from LucasKanade import Calc_Flow, FlowMaps\n",
    "import cv2\n",
    "\n",
    "\n",
    "folder='Evergreen'\n",
    "granularity=2\n",
    "img1=cv2.imread('./'+folder+'/frame10.jpg')\n",
    "img2=cv2.imread('./'+folder+'/frame11.jpg')\n",
    "#converting to gray_scale\n",
    "img1=cv2.cvtColor(img1,cv2.COLOR_BGR2GRAY)\n",
    "img2=cv2.cvtColor(img2,cv2.COLOR_BGR2GRAY)\n",
    "u,v=Calc_Flow(i,img1,img2,window=(3,3),threshold=0.01)\n",
    "im,flow_map=FlowMaps(folder,img1,u,v,granularity)\n",
    "# #print(im,flow_map)\n",
    "cv2.imwrite('./'+folder+'/flow_on_im.jpg',im)\n",
    "cv2.imwrite('./'+folder+'/flow_map.jpg',flow_map)"
   ]
  },
  {
   "cell_type": "code",
   "execution_count": null,
   "metadata": {},
   "outputs": [],
   "source": []
  },
  {
   "cell_type": "code",
   "execution_count": null,
   "metadata": {},
   "outputs": [],
   "source": []
  },
  {
   "cell_type": "code",
   "execution_count": null,
   "metadata": {},
   "outputs": [],
   "source": []
  },
  {
   "cell_type": "code",
   "execution_count": null,
   "metadata": {},
   "outputs": [],
   "source": []
  }
 ],
 "metadata": {
  "kernelspec": {
   "display_name": "Python 3",
   "language": "python",
   "name": "python3"
  },
  "language_info": {
   "codemirror_mode": {
    "name": "ipython",
    "version": 3
   },
   "file_extension": ".py",
   "mimetype": "text/x-python",
   "name": "python",
   "nbconvert_exporter": "python",
   "pygments_lexer": "ipython3",
   "version": "3.7.7"
  }
 },
 "nbformat": 4,
 "nbformat_minor": 4
}
