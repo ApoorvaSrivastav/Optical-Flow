{
 "cells": [
  {
   "cell_type": "code",
   "execution_count": 1,
   "metadata": {},
   "outputs": [],
   "source": [
    "def Video_track(Video):\n",
    "    import Video_Image \n",
    "    from Video_Image import Video2Image\n",
    "    import cv2\n",
    "    import numpy as np\n",
    "    import LucasKanade\n",
    "    from LucasKanade import Calc_Flow\n",
    "    import os\n",
    "    import Detection_Segmentation\n",
    "    from Detection_Segmentation import FlowMaps,Mask,Segment,Box\n",
    "    import Image_Video\n",
    "    from Image_Video import Image2Video\n",
    "    \n",
    "    folder,image_pre,num_frames=Video2Image(Video)\n",
    "    if not os.path.exists('box_images'): \n",
    "            os.makedirs('box_images') \n",
    "    for i in range(1,num_frames,1):\n",
    "        image1_name='img'+str(i)\n",
    "        image2_name='img'+str(i+1)\n",
    "        granularity=2\n",
    "        img1=cv2.imread('./'+folder+'/'+image1_name+'.jpg')\n",
    "        img2=cv2.imread('./'+folder+'/'+image1_name+'.jpg')\n",
    "        im,flow_map=FlowMaps(folder,img1,img2)\n",
    "#         cv2.imwrite('./flow_on_im.jpg',im)\n",
    "#         cv2.imwrite('./flow_map.jpg',flow_map)\n",
    "        mask=Mask(folder,flow_map)\n",
    "#         cv2.imwrite('./mask.jpg',mask)\n",
    "        seg=Segment(folder,img1,mask)\n",
    "        cv2.imwrite('./seg.jpg',seg)\n",
    "        seg_im=cv2.imread('./seg.jpg')\n",
    "        boxed_im=Box(folder,img1,seg_im)\n",
    "        cv2.imwrite('./box_images/img'+str(i)+'.jpg',boxed_im)\n",
    "        \n",
    "    image_array=[]\n",
    "    Input= './box_images/img'\n",
    "    Output = './box_images/box_video.mp4'\n",
    "    fps = 25\n",
    "    \n",
    "    for i in range(1,num_frames-1,1):    #Creating array of images to be converted into video\n",
    "        filename= Input +str(i)+'.jpg'\n",
    "        img=cv2.imread(filename)\n",
    "        #print(\"loading\"+filename)\n",
    "        image_array.append(img)\n",
    "    height,width,layers=img.shape\n",
    "    size=(width,height)   \n",
    "    Image2Video(Output, fps,size,image_array) "
   ]
  },
  {
   "cell_type": "code",
   "execution_count": 2,
   "metadata": {},
   "outputs": [],
   "source": [
    "if __name__ == \"__main__\":\n",
    "    import cv2\n",
    "    Video=cv2.VideoCapture(r'C:\\Users\\Asus\\Videos\\Antique.mp4')\n",
    "    Video_track(Video)"
   ]
  },
  {
   "cell_type": "code",
   "execution_count": null,
   "metadata": {},
   "outputs": [],
   "source": []
  },
  {
   "cell_type": "code",
   "execution_count": null,
   "metadata": {},
   "outputs": [],
   "source": []
  },
  {
   "cell_type": "code",
   "execution_count": null,
   "metadata": {},
   "outputs": [],
   "source": []
  }
 ],
 "metadata": {
  "kernelspec": {
   "display_name": "Python 3",
   "language": "python",
   "name": "python3"
  },
  "language_info": {
   "codemirror_mode": {
    "name": "ipython",
    "version": 3
   },
   "file_extension": ".py",
   "mimetype": "text/x-python",
   "name": "python",
   "nbconvert_exporter": "python",
   "pygments_lexer": "ipython3",
   "version": "3.7.7"
  }
 },
 "nbformat": 4,
 "nbformat_minor": 4
}
